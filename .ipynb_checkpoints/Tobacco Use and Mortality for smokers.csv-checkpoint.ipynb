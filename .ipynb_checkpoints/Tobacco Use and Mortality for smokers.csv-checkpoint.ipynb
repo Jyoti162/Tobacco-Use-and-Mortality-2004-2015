{
 "cells": [
  {
   "cell_type": "markdown",
   "id": "e84f3d39-c6e9-42d7-a440-98de03a9609d",
   "metadata": {},
   "source": [
    "### *Importing Libraries and loading Data*"
   ]
  },
  {
   "cell_type": "code",
   "execution_count": 1,
   "id": "0046b391-49b0-4068-8fd6-ec5fb233db4e",
   "metadata": {},
   "outputs": [],
   "source": [
    "import numpy as np\n",
    "import pandas as pd\n",
    "\n",
    "import matplotlib.pyplot as plt\n",
    "import seaborn as sns\n",
    "\n",
    "import warnings\n",
    "warnings.filterwarnings('ignore')"
   ]
  },
  {
   "cell_type": "code",
   "execution_count": 2,
   "id": "42fe53ad-0cd0-4349-a8b1-5daa96bcce31",
   "metadata": {},
   "outputs": [],
   "source": [
    "smokers_df = pd.read_csv(\"./smokers.csv\")\n",
    "prescriptions_df = pd.read_csv(\"./prescriptions.csv\")\n",
    "metrics_df = pd.read_csv(\"./metrics.csv\")\n",
    "fatalities_df = pd.read_csv(\"./fatalities.csv\")\n",
    "admissions_df = pd.read_csv(\"./admissions.csv\")"
   ]
  },
  {
   "cell_type": "code",
   "execution_count": 3,
   "id": "91a034d4-42fa-46a3-9725-6353cba52255",
   "metadata": {},
   "outputs": [
    {
     "data": {
      "text/html": [
       "<div>\n",
       "<style scoped>\n",
       "    .dataframe tbody tr th:only-of-type {\n",
       "        vertical-align: middle;\n",
       "    }\n",
       "\n",
       "    .dataframe tbody tr th {\n",
       "        vertical-align: top;\n",
       "    }\n",
       "\n",
       "    .dataframe thead th {\n",
       "        text-align: right;\n",
       "    }\n",
       "</style>\n",
       "<table border=\"1\" class=\"dataframe\">\n",
       "  <thead>\n",
       "    <tr style=\"text-align: right;\">\n",
       "      <th></th>\n",
       "      <th>Year</th>\n",
       "      <th>Method</th>\n",
       "      <th>Sex</th>\n",
       "      <th>16 and Over</th>\n",
       "      <th>16-24</th>\n",
       "      <th>25-34</th>\n",
       "      <th>35-49</th>\n",
       "      <th>50-59</th>\n",
       "      <th>60 and Over</th>\n",
       "    </tr>\n",
       "  </thead>\n",
       "  <tbody>\n",
       "    <tr>\n",
       "      <th>0</th>\n",
       "      <td>1974</td>\n",
       "      <td>Unweighted</td>\n",
       "      <td>NaN</td>\n",
       "      <td>46</td>\n",
       "      <td>44</td>\n",
       "      <td>51</td>\n",
       "      <td>52</td>\n",
       "      <td>50</td>\n",
       "      <td>33</td>\n",
       "    </tr>\n",
       "    <tr>\n",
       "      <th>1</th>\n",
       "      <td>1976</td>\n",
       "      <td>Unweighted</td>\n",
       "      <td>NaN</td>\n",
       "      <td>42</td>\n",
       "      <td>42</td>\n",
       "      <td>45</td>\n",
       "      <td>48</td>\n",
       "      <td>48</td>\n",
       "      <td>30</td>\n",
       "    </tr>\n",
       "    <tr>\n",
       "      <th>2</th>\n",
       "      <td>1978</td>\n",
       "      <td>Unweighted</td>\n",
       "      <td>NaN</td>\n",
       "      <td>40</td>\n",
       "      <td>39</td>\n",
       "      <td>45</td>\n",
       "      <td>45</td>\n",
       "      <td>45</td>\n",
       "      <td>30</td>\n",
       "    </tr>\n",
       "    <tr>\n",
       "      <th>3</th>\n",
       "      <td>1980</td>\n",
       "      <td>Unweighted</td>\n",
       "      <td>NaN</td>\n",
       "      <td>39</td>\n",
       "      <td>37</td>\n",
       "      <td>46</td>\n",
       "      <td>44</td>\n",
       "      <td>45</td>\n",
       "      <td>29</td>\n",
       "    </tr>\n",
       "    <tr>\n",
       "      <th>4</th>\n",
       "      <td>1982</td>\n",
       "      <td>Unweighted</td>\n",
       "      <td>NaN</td>\n",
       "      <td>35</td>\n",
       "      <td>35</td>\n",
       "      <td>38</td>\n",
       "      <td>39</td>\n",
       "      <td>41</td>\n",
       "      <td>27</td>\n",
       "    </tr>\n",
       "  </tbody>\n",
       "</table>\n",
       "</div>"
      ],
      "text/plain": [
       "   Year      Method  Sex  16 and Over  16-24  25-34  35-49  50-59  60 and Over\n",
       "0  1974  Unweighted  NaN           46     44     51     52     50           33\n",
       "1  1976  Unweighted  NaN           42     42     45     48     48           30\n",
       "2  1978  Unweighted  NaN           40     39     45     45     45           30\n",
       "3  1980  Unweighted  NaN           39     37     46     44     45           29\n",
       "4  1982  Unweighted  NaN           35     35     38     39     41           27"
      ]
     },
     "execution_count": 3,
     "metadata": {},
     "output_type": "execute_result"
    }
   ],
   "source": [
    "smokers_df.head()"
   ]
  },
  {
   "cell_type": "code",
   "execution_count": 4,
   "id": "84358dcc-d3f0-4412-bb1d-e186e2cbd668",
   "metadata": {},
   "outputs": [
    {
     "data": {
      "text/plain": [
       "(84, 9)"
      ]
     },
     "execution_count": 4,
     "metadata": {},
     "output_type": "execute_result"
    }
   ],
   "source": [
    "smokers_df.shape"
   ]
  },
  {
   "cell_type": "code",
   "execution_count": 5,
   "id": "7f8943b9-a0fe-43c8-841b-fb086f6cba3f",
   "metadata": {},
   "outputs": [
    {
     "data": {
      "text/plain": [
       "Index(['Year', 'Method', 'Sex', '16 and Over', '16-24', '25-34', '35-49',\n",
       "       '50-59', '60 and Over'],\n",
       "      dtype='object')"
      ]
     },
     "execution_count": 5,
     "metadata": {},
     "output_type": "execute_result"
    }
   ],
   "source": [
    "smokers_df.columns"
   ]
  },
  {
   "cell_type": "code",
   "execution_count": 6,
   "id": "948a7c92-23ae-4f85-a782-7eb0b9720c31",
   "metadata": {},
   "outputs": [
    {
     "name": "stdout",
     "output_type": "stream",
     "text": [
      "<class 'pandas.core.frame.DataFrame'>\n",
      "RangeIndex: 84 entries, 0 to 83\n",
      "Data columns (total 9 columns):\n",
      " #   Column       Non-Null Count  Dtype \n",
      "---  ------       --------------  ----- \n",
      " 0   Year         84 non-null     int64 \n",
      " 1   Method       84 non-null     object\n",
      " 2   Sex          56 non-null     object\n",
      " 3   16 and Over  84 non-null     int64 \n",
      " 4   16-24        84 non-null     int64 \n",
      " 5   25-34        84 non-null     int64 \n",
      " 6   35-49        84 non-null     int64 \n",
      " 7   50-59        84 non-null     int64 \n",
      " 8   60 and Over  84 non-null     int64 \n",
      "dtypes: int64(7), object(2)\n",
      "memory usage: 6.0+ KB\n"
     ]
    }
   ],
   "source": [
    "# Information about dataset\n",
    "smokers_df.info()"
   ]
  },
  {
   "cell_type": "markdown",
   "id": "f70aaee2-735f-4c9f-897e-3d9fece5ec8d",
   "metadata": {},
   "source": [
    "### *Exploratory of Data Analysis*"
   ]
  },
  {
   "cell_type": "code",
   "execution_count": 7,
   "id": "bdeff87a-16a7-4c54-abd4-4d0146e7c7a6",
   "metadata": {},
   "outputs": [
    {
     "data": {
      "text/html": [
       "<div>\n",
       "<style scoped>\n",
       "    .dataframe tbody tr th:only-of-type {\n",
       "        vertical-align: middle;\n",
       "    }\n",
       "\n",
       "    .dataframe tbody tr th {\n",
       "        vertical-align: top;\n",
       "    }\n",
       "\n",
       "    .dataframe thead th {\n",
       "        text-align: right;\n",
       "    }\n",
       "</style>\n",
       "<table border=\"1\" class=\"dataframe\">\n",
       "  <thead>\n",
       "    <tr style=\"text-align: right;\">\n",
       "      <th></th>\n",
       "      <th>Year</th>\n",
       "      <th>16 and Over</th>\n",
       "      <th>16-24</th>\n",
       "      <th>25-34</th>\n",
       "      <th>35-49</th>\n",
       "      <th>50-59</th>\n",
       "      <th>60 and Over</th>\n",
       "    </tr>\n",
       "  </thead>\n",
       "  <tbody>\n",
       "    <tr>\n",
       "      <th>count</th>\n",
       "      <td>84.000000</td>\n",
       "      <td>84.000000</td>\n",
       "      <td>84.000000</td>\n",
       "      <td>84.000000</td>\n",
       "      <td>84.000000</td>\n",
       "      <td>84.000000</td>\n",
       "      <td>84.000000</td>\n",
       "    </tr>\n",
       "    <tr>\n",
       "      <th>mean</th>\n",
       "      <td>1997.250000</td>\n",
       "      <td>27.892857</td>\n",
       "      <td>31.345238</td>\n",
       "      <td>33.678571</td>\n",
       "      <td>31.285714</td>\n",
       "      <td>28.952381</td>\n",
       "      <td>18.750000</td>\n",
       "    </tr>\n",
       "    <tr>\n",
       "      <th>std</th>\n",
       "      <td>12.142601</td>\n",
       "      <td>7.525087</td>\n",
       "      <td>5.954636</td>\n",
       "      <td>7.287819</td>\n",
       "      <td>8.161873</td>\n",
       "      <td>9.376855</td>\n",
       "      <td>7.441134</td>\n",
       "    </tr>\n",
       "    <tr>\n",
       "      <th>min</th>\n",
       "      <td>1974.000000</td>\n",
       "      <td>17.000000</td>\n",
       "      <td>20.000000</td>\n",
       "      <td>20.000000</td>\n",
       "      <td>20.000000</td>\n",
       "      <td>18.000000</td>\n",
       "      <td>10.000000</td>\n",
       "    </tr>\n",
       "    <tr>\n",
       "      <th>25%</th>\n",
       "      <td>1987.500000</td>\n",
       "      <td>22.000000</td>\n",
       "      <td>26.000000</td>\n",
       "      <td>28.000000</td>\n",
       "      <td>25.000000</td>\n",
       "      <td>22.000000</td>\n",
       "      <td>13.000000</td>\n",
       "    </tr>\n",
       "    <tr>\n",
       "      <th>50%</th>\n",
       "      <td>2000.500000</td>\n",
       "      <td>27.000000</td>\n",
       "      <td>33.000000</td>\n",
       "      <td>34.000000</td>\n",
       "      <td>29.500000</td>\n",
       "      <td>26.000000</td>\n",
       "      <td>16.000000</td>\n",
       "    </tr>\n",
       "    <tr>\n",
       "      <th>75%</th>\n",
       "      <td>2007.250000</td>\n",
       "      <td>32.000000</td>\n",
       "      <td>35.000000</td>\n",
       "      <td>37.000000</td>\n",
       "      <td>36.000000</td>\n",
       "      <td>34.250000</td>\n",
       "      <td>23.000000</td>\n",
       "    </tr>\n",
       "    <tr>\n",
       "      <th>max</th>\n",
       "      <td>2014.000000</td>\n",
       "      <td>51.000000</td>\n",
       "      <td>47.000000</td>\n",
       "      <td>55.000000</td>\n",
       "      <td>55.000000</td>\n",
       "      <td>53.000000</td>\n",
       "      <td>44.000000</td>\n",
       "    </tr>\n",
       "  </tbody>\n",
       "</table>\n",
       "</div>"
      ],
      "text/plain": [
       "              Year  16 and Over      16-24      25-34      35-49      50-59  \\\n",
       "count    84.000000    84.000000  84.000000  84.000000  84.000000  84.000000   \n",
       "mean   1997.250000    27.892857  31.345238  33.678571  31.285714  28.952381   \n",
       "std      12.142601     7.525087   5.954636   7.287819   8.161873   9.376855   \n",
       "min    1974.000000    17.000000  20.000000  20.000000  20.000000  18.000000   \n",
       "25%    1987.500000    22.000000  26.000000  28.000000  25.000000  22.000000   \n",
       "50%    2000.500000    27.000000  33.000000  34.000000  29.500000  26.000000   \n",
       "75%    2007.250000    32.000000  35.000000  37.000000  36.000000  34.250000   \n",
       "max    2014.000000    51.000000  47.000000  55.000000  55.000000  53.000000   \n",
       "\n",
       "       60 and Over  \n",
       "count    84.000000  \n",
       "mean     18.750000  \n",
       "std       7.441134  \n",
       "min      10.000000  \n",
       "25%      13.000000  \n",
       "50%      16.000000  \n",
       "75%      23.000000  \n",
       "max      44.000000  "
      ]
     },
     "execution_count": 7,
     "metadata": {},
     "output_type": "execute_result"
    }
   ],
   "source": [
    "# Summary Statistics of Numerical Columns\n",
    "smokers_df.describe()"
   ]
  },
  {
   "cell_type": "code",
   "execution_count": 8,
   "id": "93d928fe-7580-4ec2-a27f-db7fce79b363",
   "metadata": {},
   "outputs": [
    {
     "data": {
      "text/html": [
       "<div>\n",
       "<style scoped>\n",
       "    .dataframe tbody tr th:only-of-type {\n",
       "        vertical-align: middle;\n",
       "    }\n",
       "\n",
       "    .dataframe tbody tr th {\n",
       "        vertical-align: top;\n",
       "    }\n",
       "\n",
       "    .dataframe thead th {\n",
       "        text-align: right;\n",
       "    }\n",
       "</style>\n",
       "<table border=\"1\" class=\"dataframe\">\n",
       "  <thead>\n",
       "    <tr style=\"text-align: right;\">\n",
       "      <th></th>\n",
       "      <th>Method</th>\n",
       "      <th>Sex</th>\n",
       "    </tr>\n",
       "  </thead>\n",
       "  <tbody>\n",
       "    <tr>\n",
       "      <th>count</th>\n",
       "      <td>84</td>\n",
       "      <td>56</td>\n",
       "    </tr>\n",
       "    <tr>\n",
       "      <th>unique</th>\n",
       "      <td>2</td>\n",
       "      <td>2</td>\n",
       "    </tr>\n",
       "    <tr>\n",
       "      <th>top</th>\n",
       "      <td>Weighted</td>\n",
       "      <td>Male</td>\n",
       "    </tr>\n",
       "    <tr>\n",
       "      <th>freq</th>\n",
       "      <td>45</td>\n",
       "      <td>28</td>\n",
       "    </tr>\n",
       "  </tbody>\n",
       "</table>\n",
       "</div>"
      ],
      "text/plain": [
       "          Method   Sex\n",
       "count         84    56\n",
       "unique         2     2\n",
       "top     Weighted  Male\n",
       "freq          45    28"
      ]
     },
     "execution_count": 8,
     "metadata": {},
     "output_type": "execute_result"
    }
   ],
   "source": [
    "# Summary Statistics of categorical Columns\n",
    "smokers_df.describe(include='object')"
   ]
  },
  {
   "cell_type": "markdown",
   "id": "2b5b3359-397e-42ab-b0f6-fc8def86ea71",
   "metadata": {},
   "source": [
    "### *Handling Missing Value*"
   ]
  },
  {
   "cell_type": "code",
   "execution_count": 9,
   "id": "c986ca52-e60c-42aa-9c91-409f56a7b587",
   "metadata": {},
   "outputs": [
    {
     "data": {
      "text/plain": [
       "Year            0\n",
       "Method          0\n",
       "Sex            28\n",
       "16 and Over     0\n",
       "16-24           0\n",
       "25-34           0\n",
       "35-49           0\n",
       "50-59           0\n",
       "60 and Over     0\n",
       "dtype: int64"
      ]
     },
     "execution_count": 9,
     "metadata": {},
     "output_type": "execute_result"
    }
   ],
   "source": [
    "# Check missing value\n",
    "smokers_df.isnull().sum()"
   ]
  },
  {
   "cell_type": "code",
   "execution_count": 10,
   "id": "3d18c1a4-8a6c-4dcb-b6b6-ce7f54cab92a",
   "metadata": {},
   "outputs": [
    {
     "data": {
      "text/plain": [
       "Year           0.000000\n",
       "Method         0.000000\n",
       "Sex            0.333333\n",
       "16 and Over    0.000000\n",
       "16-24          0.000000\n",
       "25-34          0.000000\n",
       "35-49          0.000000\n",
       "50-59          0.000000\n",
       "60 and Over    0.000000\n",
       "dtype: float64"
      ]
     },
     "execution_count": 10,
     "metadata": {},
     "output_type": "execute_result"
    }
   ],
   "source": [
    "smokers_df.isnull().mean()"
   ]
  },
  {
   "cell_type": "code",
   "execution_count": 11,
   "id": "ef37c9d9-7001-48f7-bf5c-b013d69cf2c6",
   "metadata": {},
   "outputs": [],
   "source": [
    "# Fill Null Value with Unknown\n",
    "smokers_df['Sex']= smokers_df['Sex'].fillna(\"Unknown\")"
   ]
  },
  {
   "cell_type": "code",
   "execution_count": 12,
   "id": "660077fc-f680-403c-84c7-e5f2e691c9f2",
   "metadata": {},
   "outputs": [
    {
     "data": {
      "text/plain": [
       "0     Unknown\n",
       "1     Unknown\n",
       "2     Unknown\n",
       "3     Unknown\n",
       "4     Unknown\n",
       "       ...   \n",
       "79     Female\n",
       "80     Female\n",
       "81     Female\n",
       "82     Female\n",
       "83     Female\n",
       "Name: Sex, Length: 84, dtype: object"
      ]
     },
     "execution_count": 12,
     "metadata": {},
     "output_type": "execute_result"
    }
   ],
   "source": [
    "smokers_df['Sex']"
   ]
  },
  {
   "cell_type": "code",
   "execution_count": 13,
   "id": "7cf2972a-2042-4ee4-bfbd-720f0e8d08db",
   "metadata": {},
   "outputs": [
    {
     "data": {
      "text/plain": [
       "Year           0\n",
       "Method         0\n",
       "Sex            0\n",
       "16 and Over    0\n",
       "16-24          0\n",
       "25-34          0\n",
       "35-49          0\n",
       "50-59          0\n",
       "60 and Over    0\n",
       "dtype: int64"
      ]
     },
     "execution_count": 13,
     "metadata": {},
     "output_type": "execute_result"
    }
   ],
   "source": [
    "# Check missing value\n",
    "smokers_df.isnull().sum()"
   ]
  },
  {
   "cell_type": "code",
   "execution_count": 14,
   "id": "54585927-316d-4afc-9e19-bef257dbda4a",
   "metadata": {},
   "outputs": [
    {
     "data": {
      "text/plain": [
       "Year           0.0\n",
       "Method         0.0\n",
       "Sex            0.0\n",
       "16 and Over    0.0\n",
       "16-24          0.0\n",
       "25-34          0.0\n",
       "35-49          0.0\n",
       "50-59          0.0\n",
       "60 and Over    0.0\n",
       "dtype: float64"
      ]
     },
     "execution_count": 14,
     "metadata": {},
     "output_type": "execute_result"
    }
   ],
   "source": [
    "smokers_df.isnull().mean()"
   ]
  },
  {
   "cell_type": "markdown",
   "id": "20b5d422-4596-4954-8abe-251d6694c00f",
   "metadata": {},
   "source": [
    "### *Data Analysis and Visualizations*"
   ]
  },
  {
   "cell_type": "code",
   "execution_count": null,
   "id": "adb0e0eb-7421-4b81-815f-fef49882624f",
   "metadata": {},
   "outputs": [],
   "source": []
  },
  {
   "cell_type": "code",
   "execution_count": null,
   "id": "7f78119d-2947-4faf-acc4-17c69d8ffd78",
   "metadata": {},
   "outputs": [],
   "source": []
  },
  {
   "cell_type": "code",
   "execution_count": null,
   "id": "ef56f95b-7edc-496b-9b08-fb4f5e195887",
   "metadata": {},
   "outputs": [],
   "source": []
  },
  {
   "cell_type": "code",
   "execution_count": null,
   "id": "5d3ac1b8-b476-4983-be50-f1a0eea7e846",
   "metadata": {},
   "outputs": [],
   "source": []
  },
  {
   "cell_type": "code",
   "execution_count": null,
   "id": "503ff520-57ae-422b-bb26-6c83e9d898e7",
   "metadata": {},
   "outputs": [],
   "source": []
  },
  {
   "cell_type": "code",
   "execution_count": null,
   "id": "6ca55a78-57de-41cc-94b3-52d8bd12b5c6",
   "metadata": {},
   "outputs": [],
   "source": []
  },
  {
   "cell_type": "code",
   "execution_count": null,
   "id": "8090fc27-d04f-4a81-ba0f-b83ded040194",
   "metadata": {},
   "outputs": [],
   "source": []
  },
  {
   "cell_type": "code",
   "execution_count": null,
   "id": "f8e63772-ebf2-404b-9d6b-83d63f0b468f",
   "metadata": {},
   "outputs": [],
   "source": [
    "# Check Correlation between them\n",
    "plt.figure(figsize=(15,10))\n",
    "sns.heatmap(smokers_df.corr(), annot=True)\n",
    "plt.show()"
   ]
  },
  {
   "cell_type": "code",
   "execution_count": null,
   "id": "e6b756d9-0a6c-414c-a433-44d1e9238ebf",
   "metadata": {},
   "outputs": [],
   "source": []
  },
  {
   "cell_type": "code",
   "execution_count": 4,
   "id": "0b97420f-6056-46b8-b354-ecf6b28ef450",
   "metadata": {},
   "outputs": [
    {
     "data": {
      "text/html": [
       "<div>\n",
       "<style scoped>\n",
       "    .dataframe tbody tr th:only-of-type {\n",
       "        vertical-align: middle;\n",
       "    }\n",
       "\n",
       "    .dataframe tbody tr th {\n",
       "        vertical-align: top;\n",
       "    }\n",
       "\n",
       "    .dataframe thead th {\n",
       "        text-align: right;\n",
       "    }\n",
       "</style>\n",
       "<table border=\"1\" class=\"dataframe\">\n",
       "  <thead>\n",
       "    <tr style=\"text-align: right;\">\n",
       "      <th></th>\n",
       "      <th>Year</th>\n",
       "      <th>All Pharmacotherapy Prescriptions</th>\n",
       "      <th>Nicotine Replacement Therapy (NRT) Prescriptions</th>\n",
       "      <th>Bupropion (Zyban) Prescriptions</th>\n",
       "      <th>Varenicline (Champix) Prescriptions</th>\n",
       "      <th>Net Ingredient Cost of All Pharmacotherapies</th>\n",
       "      <th>Net Ingredient Cost of Nicotine Replacement Therapies (NRT)</th>\n",
       "      <th>Net Ingredient Cost of Bupropion (Zyban)</th>\n",
       "      <th>Net Ingredient Cost of Varenicline (Champix)</th>\n",
       "    </tr>\n",
       "  </thead>\n",
       "  <tbody>\n",
       "    <tr>\n",
       "      <th>0</th>\n",
       "      <td>2014/15</td>\n",
       "      <td>1348</td>\n",
       "      <td>766</td>\n",
       "      <td>21</td>\n",
       "      <td>561.0</td>\n",
       "      <td>38145</td>\n",
       "      <td>18208</td>\n",
       "      <td>807</td>\n",
       "      <td>19129.0</td>\n",
       "    </tr>\n",
       "    <tr>\n",
       "      <th>1</th>\n",
       "      <td>2013/14</td>\n",
       "      <td>1778</td>\n",
       "      <td>1059</td>\n",
       "      <td>22</td>\n",
       "      <td>697.0</td>\n",
       "      <td>48767</td>\n",
       "      <td>24257</td>\n",
       "      <td>865</td>\n",
       "      <td>23646.0</td>\n",
       "    </tr>\n",
       "    <tr>\n",
       "      <th>2</th>\n",
       "      <td>2012/13</td>\n",
       "      <td>2203</td>\n",
       "      <td>1318</td>\n",
       "      <td>26</td>\n",
       "      <td>859.0</td>\n",
       "      <td>58121</td>\n",
       "      <td>28069</td>\n",
       "      <td>994</td>\n",
       "      <td>29058.0</td>\n",
       "    </tr>\n",
       "    <tr>\n",
       "      <th>3</th>\n",
       "      <td>2011/12</td>\n",
       "      <td>2532</td>\n",
       "      <td>1545</td>\n",
       "      <td>30</td>\n",
       "      <td>957.0</td>\n",
       "      <td>64552</td>\n",
       "      <td>30951</td>\n",
       "      <td>1216</td>\n",
       "      <td>32385.0</td>\n",
       "    </tr>\n",
       "    <tr>\n",
       "      <th>4</th>\n",
       "      <td>2010/11</td>\n",
       "      <td>2564</td>\n",
       "      <td>1541</td>\n",
       "      <td>36</td>\n",
       "      <td>987.0</td>\n",
       "      <td>65883</td>\n",
       "      <td>30808</td>\n",
       "      <td>1581</td>\n",
       "      <td>33494.0</td>\n",
       "    </tr>\n",
       "  </tbody>\n",
       "</table>\n",
       "</div>"
      ],
      "text/plain": [
       "      Year  All Pharmacotherapy Prescriptions  \\\n",
       "0  2014/15                               1348   \n",
       "1  2013/14                               1778   \n",
       "2  2012/13                               2203   \n",
       "3  2011/12                               2532   \n",
       "4  2010/11                               2564   \n",
       "\n",
       "   Nicotine Replacement Therapy (NRT) Prescriptions  \\\n",
       "0                                               766   \n",
       "1                                              1059   \n",
       "2                                              1318   \n",
       "3                                              1545   \n",
       "4                                              1541   \n",
       "\n",
       "   Bupropion (Zyban) Prescriptions  Varenicline (Champix) Prescriptions  \\\n",
       "0                               21                                561.0   \n",
       "1                               22                                697.0   \n",
       "2                               26                                859.0   \n",
       "3                               30                                957.0   \n",
       "4                               36                                987.0   \n",
       "\n",
       "   Net Ingredient Cost of All Pharmacotherapies  \\\n",
       "0                                         38145   \n",
       "1                                         48767   \n",
       "2                                         58121   \n",
       "3                                         64552   \n",
       "4                                         65883   \n",
       "\n",
       "   Net Ingredient Cost of Nicotine Replacement Therapies (NRT)  \\\n",
       "0                                              18208             \n",
       "1                                              24257             \n",
       "2                                              28069             \n",
       "3                                              30951             \n",
       "4                                              30808             \n",
       "\n",
       "   Net Ingredient Cost of Bupropion (Zyban)  \\\n",
       "0                                       807   \n",
       "1                                       865   \n",
       "2                                       994   \n",
       "3                                      1216   \n",
       "4                                      1581   \n",
       "\n",
       "   Net Ingredient Cost of Varenicline (Champix)  \n",
       "0                                       19129.0  \n",
       "1                                       23646.0  \n",
       "2                                       29058.0  \n",
       "3                                       32385.0  \n",
       "4                                       33494.0  "
      ]
     },
     "execution_count": 4,
     "metadata": {},
     "output_type": "execute_result"
    }
   ],
   "source": [
    "prescriptions_df.head()"
   ]
  },
  {
   "cell_type": "code",
   "execution_count": 9,
   "id": "2676a40f-7b2c-4430-b0e1-d692f0a9ae37",
   "metadata": {},
   "outputs": [
    {
     "data": {
      "text/plain": [
       "(11, 9)"
      ]
     },
     "execution_count": 9,
     "metadata": {},
     "output_type": "execute_result"
    }
   ],
   "source": [
    "prescriptions_df.shape"
   ]
  },
  {
   "cell_type": "code",
   "execution_count": 5,
   "id": "6a54a349-7994-4642-8a96-528827f9fdbb",
   "metadata": {},
   "outputs": [
    {
     "data": {
      "text/html": [
       "<div>\n",
       "<style scoped>\n",
       "    .dataframe tbody tr th:only-of-type {\n",
       "        vertical-align: middle;\n",
       "    }\n",
       "\n",
       "    .dataframe tbody tr th {\n",
       "        vertical-align: top;\n",
       "    }\n",
       "\n",
       "    .dataframe thead th {\n",
       "        text-align: right;\n",
       "    }\n",
       "</style>\n",
       "<table border=\"1\" class=\"dataframe\">\n",
       "  <thead>\n",
       "    <tr style=\"text-align: right;\">\n",
       "      <th></th>\n",
       "      <th>Year</th>\n",
       "      <th>Tobacco Price\\nIndex</th>\n",
       "      <th>Retail Prices\\nIndex</th>\n",
       "      <th>Tobacco Price Index Relative to Retail Price Index</th>\n",
       "      <th>Real Households' Disposable Income</th>\n",
       "      <th>Affordability of Tobacco Index</th>\n",
       "      <th>Household Expenditure on Tobacco</th>\n",
       "      <th>Household Expenditure Total</th>\n",
       "      <th>Expenditure on Tobacco as a Percentage of Expenditure</th>\n",
       "    </tr>\n",
       "  </thead>\n",
       "  <tbody>\n",
       "    <tr>\n",
       "      <th>0</th>\n",
       "      <td>2015</td>\n",
       "      <td>1294.3</td>\n",
       "      <td>386.7</td>\n",
       "      <td>334.7</td>\n",
       "      <td>196.4</td>\n",
       "      <td>58.7</td>\n",
       "      <td>19252.0</td>\n",
       "      <td>1152387.0</td>\n",
       "      <td>1.7</td>\n",
       "    </tr>\n",
       "    <tr>\n",
       "      <th>1</th>\n",
       "      <td>2014</td>\n",
       "      <td>1226.0</td>\n",
       "      <td>383.0</td>\n",
       "      <td>320.1</td>\n",
       "      <td>190.0</td>\n",
       "      <td>59.4</td>\n",
       "      <td>19411.0</td>\n",
       "      <td>1118992.0</td>\n",
       "      <td>1.7</td>\n",
       "    </tr>\n",
       "    <tr>\n",
       "      <th>2</th>\n",
       "      <td>2013</td>\n",
       "      <td>1139.3</td>\n",
       "      <td>374.2</td>\n",
       "      <td>304.5</td>\n",
       "      <td>190.3</td>\n",
       "      <td>62.5</td>\n",
       "      <td>18683.0</td>\n",
       "      <td>1073106.0</td>\n",
       "      <td>1.7</td>\n",
       "    </tr>\n",
       "    <tr>\n",
       "      <th>3</th>\n",
       "      <td>2012</td>\n",
       "      <td>1057.8</td>\n",
       "      <td>363.1</td>\n",
       "      <td>291.3</td>\n",
       "      <td>192.9</td>\n",
       "      <td>66.2</td>\n",
       "      <td>18702.0</td>\n",
       "      <td>1029378.0</td>\n",
       "      <td>1.8</td>\n",
       "    </tr>\n",
       "    <tr>\n",
       "      <th>4</th>\n",
       "      <td>2011</td>\n",
       "      <td>974.9</td>\n",
       "      <td>351.9</td>\n",
       "      <td>277.1</td>\n",
       "      <td>189.3</td>\n",
       "      <td>68.3</td>\n",
       "      <td>18217.0</td>\n",
       "      <td>990828.0</td>\n",
       "      <td>1.8</td>\n",
       "    </tr>\n",
       "  </tbody>\n",
       "</table>\n",
       "</div>"
      ],
      "text/plain": [
       "   Year  Tobacco Price\\nIndex  Retail Prices\\nIndex  \\\n",
       "0  2015                1294.3                 386.7   \n",
       "1  2014                1226.0                 383.0   \n",
       "2  2013                1139.3                 374.2   \n",
       "3  2012                1057.8                 363.1   \n",
       "4  2011                 974.9                 351.9   \n",
       "\n",
       "   Tobacco Price Index Relative to Retail Price Index  \\\n",
       "0                                              334.7    \n",
       "1                                              320.1    \n",
       "2                                              304.5    \n",
       "3                                              291.3    \n",
       "4                                              277.1    \n",
       "\n",
       "   Real Households' Disposable Income  Affordability of Tobacco Index  \\\n",
       "0                               196.4                            58.7   \n",
       "1                               190.0                            59.4   \n",
       "2                               190.3                            62.5   \n",
       "3                               192.9                            66.2   \n",
       "4                               189.3                            68.3   \n",
       "\n",
       "   Household Expenditure on Tobacco  Household Expenditure Total  \\\n",
       "0                           19252.0                    1152387.0   \n",
       "1                           19411.0                    1118992.0   \n",
       "2                           18683.0                    1073106.0   \n",
       "3                           18702.0                    1029378.0   \n",
       "4                           18217.0                     990828.0   \n",
       "\n",
       "   Expenditure on Tobacco as a Percentage of Expenditure  \n",
       "0                                                1.7      \n",
       "1                                                1.7      \n",
       "2                                                1.7      \n",
       "3                                                1.8      \n",
       "4                                                1.8      "
      ]
     },
     "execution_count": 5,
     "metadata": {},
     "output_type": "execute_result"
    }
   ],
   "source": [
    "metrics_df.head()"
   ]
  },
  {
   "cell_type": "code",
   "execution_count": 10,
   "id": "2b3a368f-01e0-4801-a7bc-3e1ba6715033",
   "metadata": {},
   "outputs": [
    {
     "data": {
      "text/plain": [
       "(36, 9)"
      ]
     },
     "execution_count": 10,
     "metadata": {},
     "output_type": "execute_result"
    }
   ],
   "source": [
    "metrics_df.shape"
   ]
  },
  {
   "cell_type": "code",
   "execution_count": 6,
   "id": "cc6469dd-1e45-428a-bf18-4f24c542563d",
   "metadata": {},
   "outputs": [
    {
     "data": {
      "text/html": [
       "<div>\n",
       "<style scoped>\n",
       "    .dataframe tbody tr th:only-of-type {\n",
       "        vertical-align: middle;\n",
       "    }\n",
       "\n",
       "    .dataframe tbody tr th {\n",
       "        vertical-align: top;\n",
       "    }\n",
       "\n",
       "    .dataframe thead th {\n",
       "        text-align: right;\n",
       "    }\n",
       "</style>\n",
       "<table border=\"1\" class=\"dataframe\">\n",
       "  <thead>\n",
       "    <tr style=\"text-align: right;\">\n",
       "      <th></th>\n",
       "      <th>Year</th>\n",
       "      <th>ICD10 Code</th>\n",
       "      <th>ICD10 Diagnosis</th>\n",
       "      <th>Diagnosis Type</th>\n",
       "      <th>Metric</th>\n",
       "      <th>Sex</th>\n",
       "      <th>Value</th>\n",
       "    </tr>\n",
       "  </thead>\n",
       "  <tbody>\n",
       "    <tr>\n",
       "      <th>0</th>\n",
       "      <td>2014</td>\n",
       "      <td>All codes</td>\n",
       "      <td>All deaths</td>\n",
       "      <td>All deaths</td>\n",
       "      <td>Number of observed deaths</td>\n",
       "      <td>NaN</td>\n",
       "      <td>459087</td>\n",
       "    </tr>\n",
       "    <tr>\n",
       "      <th>1</th>\n",
       "      <td>2014</td>\n",
       "      <td>C33-C34 &amp; C00-C14 &amp; C15 &amp; C32 &amp; C53 &amp; C67 &amp; C6...</td>\n",
       "      <td>All deaths which can be caused by smoking</td>\n",
       "      <td>All deaths which can be caused by smoking</td>\n",
       "      <td>Number of observed deaths</td>\n",
       "      <td>NaN</td>\n",
       "      <td>235820</td>\n",
       "    </tr>\n",
       "    <tr>\n",
       "      <th>2</th>\n",
       "      <td>2014</td>\n",
       "      <td>C00-D48</td>\n",
       "      <td>All cancers</td>\n",
       "      <td>All cancers</td>\n",
       "      <td>Number of observed deaths</td>\n",
       "      <td>NaN</td>\n",
       "      <td>136312</td>\n",
       "    </tr>\n",
       "    <tr>\n",
       "      <th>3</th>\n",
       "      <td>2014</td>\n",
       "      <td>J00-J99</td>\n",
       "      <td>All respiratory diseases</td>\n",
       "      <td>All respiratory diseases</td>\n",
       "      <td>Number of observed deaths</td>\n",
       "      <td>NaN</td>\n",
       "      <td>61744</td>\n",
       "    </tr>\n",
       "    <tr>\n",
       "      <th>4</th>\n",
       "      <td>2014</td>\n",
       "      <td>I00-I99</td>\n",
       "      <td>All circulatory diseases</td>\n",
       "      <td>All circulatory diseases</td>\n",
       "      <td>Number of observed deaths</td>\n",
       "      <td>NaN</td>\n",
       "      <td>126101</td>\n",
       "    </tr>\n",
       "  </tbody>\n",
       "</table>\n",
       "</div>"
      ],
      "text/plain": [
       "   Year                                         ICD10 Code  \\\n",
       "0  2014                                          All codes   \n",
       "1  2014  C33-C34 & C00-C14 & C15 & C32 & C53 & C67 & C6...   \n",
       "2  2014                                            C00-D48   \n",
       "3  2014                                            J00-J99   \n",
       "4  2014                                            I00-I99   \n",
       "\n",
       "                             ICD10 Diagnosis  \\\n",
       "0                                 All deaths   \n",
       "1  All deaths which can be caused by smoking   \n",
       "2                                All cancers   \n",
       "3                   All respiratory diseases   \n",
       "4                   All circulatory diseases   \n",
       "\n",
       "                              Diagnosis Type                     Metric  Sex  \\\n",
       "0                                 All deaths  Number of observed deaths  NaN   \n",
       "1  All deaths which can be caused by smoking  Number of observed deaths  NaN   \n",
       "2                                All cancers  Number of observed deaths  NaN   \n",
       "3                   All respiratory diseases  Number of observed deaths  NaN   \n",
       "4                   All circulatory diseases  Number of observed deaths  NaN   \n",
       "\n",
       "    Value  \n",
       "0  459087  \n",
       "1  235820  \n",
       "2  136312  \n",
       "3   61744  \n",
       "4  126101  "
      ]
     },
     "execution_count": 6,
     "metadata": {},
     "output_type": "execute_result"
    }
   ],
   "source": [
    "fatalities_df.head()"
   ]
  },
  {
   "cell_type": "code",
   "execution_count": 13,
   "id": "849cf191-7011-4382-81b1-fd10456633e3",
   "metadata": {},
   "outputs": [
    {
     "data": {
      "text/plain": [
       "(1749, 7)"
      ]
     },
     "execution_count": 13,
     "metadata": {},
     "output_type": "execute_result"
    }
   ],
   "source": [
    "fatalities_df.shape"
   ]
  },
  {
   "cell_type": "code",
   "execution_count": 7,
   "id": "6048722e-e040-4fbf-b7f5-f5b7cf645237",
   "metadata": {},
   "outputs": [
    {
     "data": {
      "text/html": [
       "<div>\n",
       "<style scoped>\n",
       "    .dataframe tbody tr th:only-of-type {\n",
       "        vertical-align: middle;\n",
       "    }\n",
       "\n",
       "    .dataframe tbody tr th {\n",
       "        vertical-align: top;\n",
       "    }\n",
       "\n",
       "    .dataframe thead th {\n",
       "        text-align: right;\n",
       "    }\n",
       "</style>\n",
       "<table border=\"1\" class=\"dataframe\">\n",
       "  <thead>\n",
       "    <tr style=\"text-align: right;\">\n",
       "      <th></th>\n",
       "      <th>Year</th>\n",
       "      <th>ICD10 Code</th>\n",
       "      <th>ICD10 Diagnosis</th>\n",
       "      <th>Diagnosis Type</th>\n",
       "      <th>Metric</th>\n",
       "      <th>Sex</th>\n",
       "      <th>Value</th>\n",
       "    </tr>\n",
       "  </thead>\n",
       "  <tbody>\n",
       "    <tr>\n",
       "      <th>0</th>\n",
       "      <td>2014/15</td>\n",
       "      <td>All codes</td>\n",
       "      <td>All admissions</td>\n",
       "      <td>All admissions</td>\n",
       "      <td>Number of admissions</td>\n",
       "      <td>NaN</td>\n",
       "      <td>11011882</td>\n",
       "    </tr>\n",
       "    <tr>\n",
       "      <th>1</th>\n",
       "      <td>2014/15</td>\n",
       "      <td>C33-C34 &amp; C00-C14 &amp; C15 &amp; C32 &amp; C53 &amp; C67 &amp; C6...</td>\n",
       "      <td>All diseases which can be caused by smoking</td>\n",
       "      <td>All diseases which can be caused by smoking</td>\n",
       "      <td>Number of admissions</td>\n",
       "      <td>NaN</td>\n",
       "      <td>1713330</td>\n",
       "    </tr>\n",
       "    <tr>\n",
       "      <th>2</th>\n",
       "      <td>2014/15</td>\n",
       "      <td>C00-D48</td>\n",
       "      <td>All cancers</td>\n",
       "      <td>All cancers</td>\n",
       "      <td>Number of admissions</td>\n",
       "      <td>NaN</td>\n",
       "      <td>1691035</td>\n",
       "    </tr>\n",
       "    <tr>\n",
       "      <th>3</th>\n",
       "      <td>2014/15</td>\n",
       "      <td>J00-J99</td>\n",
       "      <td>All respiratory diseases</td>\n",
       "      <td>All respiratory diseases</td>\n",
       "      <td>Number of admissions</td>\n",
       "      <td>NaN</td>\n",
       "      <td>611002</td>\n",
       "    </tr>\n",
       "    <tr>\n",
       "      <th>4</th>\n",
       "      <td>2014/15</td>\n",
       "      <td>I00-I99</td>\n",
       "      <td>All circulatory diseases</td>\n",
       "      <td>All circulatory diseases</td>\n",
       "      <td>Number of admissions</td>\n",
       "      <td>NaN</td>\n",
       "      <td>907157</td>\n",
       "    </tr>\n",
       "  </tbody>\n",
       "</table>\n",
       "</div>"
      ],
      "text/plain": [
       "      Year                                         ICD10 Code  \\\n",
       "0  2014/15                                          All codes   \n",
       "1  2014/15  C33-C34 & C00-C14 & C15 & C32 & C53 & C67 & C6...   \n",
       "2  2014/15                                            C00-D48   \n",
       "3  2014/15                                            J00-J99   \n",
       "4  2014/15                                            I00-I99   \n",
       "\n",
       "                               ICD10 Diagnosis  \\\n",
       "0                               All admissions   \n",
       "1  All diseases which can be caused by smoking   \n",
       "2                                  All cancers   \n",
       "3                     All respiratory diseases   \n",
       "4                     All circulatory diseases   \n",
       "\n",
       "                                Diagnosis Type                Metric  Sex  \\\n",
       "0                               All admissions  Number of admissions  NaN   \n",
       "1  All diseases which can be caused by smoking  Number of admissions  NaN   \n",
       "2                                  All cancers  Number of admissions  NaN   \n",
       "3                     All respiratory diseases  Number of admissions  NaN   \n",
       "4                     All circulatory diseases  Number of admissions  NaN   \n",
       "\n",
       "      Value  \n",
       "0  11011882  \n",
       "1   1713330  \n",
       "2   1691035  \n",
       "3    611002  \n",
       "4    907157  "
      ]
     },
     "execution_count": 7,
     "metadata": {},
     "output_type": "execute_result"
    }
   ],
   "source": [
    "admissions_df.head()"
   ]
  },
  {
   "cell_type": "code",
   "execution_count": 14,
   "id": "6991cde4-6173-4da6-b55c-017c62f51a4b",
   "metadata": {},
   "outputs": [
    {
     "data": {
      "text/plain": [
       "(2079, 7)"
      ]
     },
     "execution_count": 14,
     "metadata": {},
     "output_type": "execute_result"
    }
   ],
   "source": [
    "admissions_df.shape"
   ]
  },
  {
   "cell_type": "code",
   "execution_count": null,
   "id": "8003c9d8-7784-40d5-8835-65f03cb3e52c",
   "metadata": {},
   "outputs": [],
   "source": []
  }
 ],
 "metadata": {
  "kernelspec": {
   "display_name": "Python 3 (ipykernel)",
   "language": "python",
   "name": "python3"
  },
  "language_info": {
   "codemirror_mode": {
    "name": "ipython",
    "version": 3
   },
   "file_extension": ".py",
   "mimetype": "text/x-python",
   "name": "python",
   "nbconvert_exporter": "python",
   "pygments_lexer": "ipython3",
   "version": "3.12.7"
  }
 },
 "nbformat": 4,
 "nbformat_minor": 5
}
