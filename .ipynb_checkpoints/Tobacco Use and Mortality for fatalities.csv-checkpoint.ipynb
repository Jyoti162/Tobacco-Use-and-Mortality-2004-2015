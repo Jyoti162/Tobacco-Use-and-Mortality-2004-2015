{
 "cells": [
  {
   "cell_type": "code",
   "execution_count": 1,
   "id": "adf45786-0b56-4a67-9d6b-2ef567da5147",
   "metadata": {},
   "outputs": [],
   "source": [
    "import numpy as np\n",
    "import pandas as pd\n",
    "\n",
    "import matplotlib.pyplot as plt\n",
    "import seaborn as sns\n",
    "\n",
    "import warnings\n",
    "warnings.filterwarnings('ignore')"
   ]
  },
  {
   "cell_type": "code",
   "execution_count": 2,
   "id": "30c6d007-1cf5-4802-a9c8-69a0424718a5",
   "metadata": {},
   "outputs": [],
   "source": [
    "fatalities_df = pd.read_csv(\"./fatalities.csv\")"
   ]
  },
  {
   "cell_type": "code",
   "execution_count": 3,
   "id": "d67abffb-5628-40ba-b138-10cd29aad1d0",
   "metadata": {},
   "outputs": [
    {
     "data": {
      "text/html": [
       "<div>\n",
       "<style scoped>\n",
       "    .dataframe tbody tr th:only-of-type {\n",
       "        vertical-align: middle;\n",
       "    }\n",
       "\n",
       "    .dataframe tbody tr th {\n",
       "        vertical-align: top;\n",
       "    }\n",
       "\n",
       "    .dataframe thead th {\n",
       "        text-align: right;\n",
       "    }\n",
       "</style>\n",
       "<table border=\"1\" class=\"dataframe\">\n",
       "  <thead>\n",
       "    <tr style=\"text-align: right;\">\n",
       "      <th></th>\n",
       "      <th>Year</th>\n",
       "      <th>ICD10 Code</th>\n",
       "      <th>ICD10 Diagnosis</th>\n",
       "      <th>Diagnosis Type</th>\n",
       "      <th>Metric</th>\n",
       "      <th>Sex</th>\n",
       "      <th>Value</th>\n",
       "    </tr>\n",
       "  </thead>\n",
       "  <tbody>\n",
       "    <tr>\n",
       "      <th>0</th>\n",
       "      <td>2014</td>\n",
       "      <td>All codes</td>\n",
       "      <td>All deaths</td>\n",
       "      <td>All deaths</td>\n",
       "      <td>Number of observed deaths</td>\n",
       "      <td>NaN</td>\n",
       "      <td>459087</td>\n",
       "    </tr>\n",
       "    <tr>\n",
       "      <th>1</th>\n",
       "      <td>2014</td>\n",
       "      <td>C33-C34 &amp; C00-C14 &amp; C15 &amp; C32 &amp; C53 &amp; C67 &amp; C6...</td>\n",
       "      <td>All deaths which can be caused by smoking</td>\n",
       "      <td>All deaths which can be caused by smoking</td>\n",
       "      <td>Number of observed deaths</td>\n",
       "      <td>NaN</td>\n",
       "      <td>235820</td>\n",
       "    </tr>\n",
       "    <tr>\n",
       "      <th>2</th>\n",
       "      <td>2014</td>\n",
       "      <td>C00-D48</td>\n",
       "      <td>All cancers</td>\n",
       "      <td>All cancers</td>\n",
       "      <td>Number of observed deaths</td>\n",
       "      <td>NaN</td>\n",
       "      <td>136312</td>\n",
       "    </tr>\n",
       "    <tr>\n",
       "      <th>3</th>\n",
       "      <td>2014</td>\n",
       "      <td>J00-J99</td>\n",
       "      <td>All respiratory diseases</td>\n",
       "      <td>All respiratory diseases</td>\n",
       "      <td>Number of observed deaths</td>\n",
       "      <td>NaN</td>\n",
       "      <td>61744</td>\n",
       "    </tr>\n",
       "    <tr>\n",
       "      <th>4</th>\n",
       "      <td>2014</td>\n",
       "      <td>I00-I99</td>\n",
       "      <td>All circulatory diseases</td>\n",
       "      <td>All circulatory diseases</td>\n",
       "      <td>Number of observed deaths</td>\n",
       "      <td>NaN</td>\n",
       "      <td>126101</td>\n",
       "    </tr>\n",
       "  </tbody>\n",
       "</table>\n",
       "</div>"
      ],
      "text/plain": [
       "   Year                                         ICD10 Code  \\\n",
       "0  2014                                          All codes   \n",
       "1  2014  C33-C34 & C00-C14 & C15 & C32 & C53 & C67 & C6...   \n",
       "2  2014                                            C00-D48   \n",
       "3  2014                                            J00-J99   \n",
       "4  2014                                            I00-I99   \n",
       "\n",
       "                             ICD10 Diagnosis  \\\n",
       "0                                 All deaths   \n",
       "1  All deaths which can be caused by smoking   \n",
       "2                                All cancers   \n",
       "3                   All respiratory diseases   \n",
       "4                   All circulatory diseases   \n",
       "\n",
       "                              Diagnosis Type                     Metric  Sex  \\\n",
       "0                                 All deaths  Number of observed deaths  NaN   \n",
       "1  All deaths which can be caused by smoking  Number of observed deaths  NaN   \n",
       "2                                All cancers  Number of observed deaths  NaN   \n",
       "3                   All respiratory diseases  Number of observed deaths  NaN   \n",
       "4                   All circulatory diseases  Number of observed deaths  NaN   \n",
       "\n",
       "    Value  \n",
       "0  459087  \n",
       "1  235820  \n",
       "2  136312  \n",
       "3   61744  \n",
       "4  126101  "
      ]
     },
     "execution_count": 3,
     "metadata": {},
     "output_type": "execute_result"
    }
   ],
   "source": [
    "fatalities_df.head()"
   ]
  },
  {
   "cell_type": "code",
   "execution_count": 4,
   "id": "a34aad04-772d-4f24-87ef-8a20a58d92a0",
   "metadata": {},
   "outputs": [
    {
     "data": {
      "text/plain": [
       "(1749, 7)"
      ]
     },
     "execution_count": 4,
     "metadata": {},
     "output_type": "execute_result"
    }
   ],
   "source": [
    "fatalities_df.shape"
   ]
  },
  {
   "cell_type": "code",
   "execution_count": 5,
   "id": "16976da5-8987-433c-9948-24b9ae3fc3d3",
   "metadata": {},
   "outputs": [
    {
     "data": {
      "text/plain": [
       "Index(['Year', 'ICD10 Code', 'ICD10 Diagnosis', 'Diagnosis Type', 'Metric',\n",
       "       'Sex', 'Value'],\n",
       "      dtype='object')"
      ]
     },
     "execution_count": 5,
     "metadata": {},
     "output_type": "execute_result"
    }
   ],
   "source": [
    "fatalities_df.columns"
   ]
  },
  {
   "cell_type": "code",
   "execution_count": 6,
   "id": "830e26e4-8d60-4729-97c7-f335487bbd27",
   "metadata": {},
   "outputs": [
    {
     "name": "stdout",
     "output_type": "stream",
     "text": [
      "<class 'pandas.core.frame.DataFrame'>\n",
      "RangeIndex: 1749 entries, 0 to 1748\n",
      "Data columns (total 7 columns):\n",
      " #   Column           Non-Null Count  Dtype \n",
      "---  ------           --------------  ----- \n",
      " 0   Year             1749 non-null   int64 \n",
      " 1   ICD10 Code       1749 non-null   object\n",
      " 2   ICD10 Diagnosis  1749 non-null   object\n",
      " 3   Diagnosis Type   1749 non-null   object\n",
      " 4   Metric           1749 non-null   object\n",
      " 5   Sex              1166 non-null   object\n",
      " 6   Value            1749 non-null   object\n",
      "dtypes: int64(1), object(6)\n",
      "memory usage: 95.8+ KB\n"
     ]
    }
   ],
   "source": [
    "# Information about Dataset\n",
    "fatalities_df.info()"
   ]
  },
  {
   "cell_type": "markdown",
   "id": "a9876918-ff6e-4627-8df5-2a80c49ad54e",
   "metadata": {},
   "source": [
    "### *Exploratory of Data Analysis*"
   ]
  },
  {
   "cell_type": "code",
   "execution_count": 7,
   "id": "9d21f1da-fa74-475c-b783-c4865bfae25b",
   "metadata": {},
   "outputs": [
    {
     "data": {
      "text/html": [
       "<div>\n",
       "<style scoped>\n",
       "    .dataframe tbody tr th:only-of-type {\n",
       "        vertical-align: middle;\n",
       "    }\n",
       "\n",
       "    .dataframe tbody tr th {\n",
       "        vertical-align: top;\n",
       "    }\n",
       "\n",
       "    .dataframe thead th {\n",
       "        text-align: right;\n",
       "    }\n",
       "</style>\n",
       "<table border=\"1\" class=\"dataframe\">\n",
       "  <thead>\n",
       "    <tr style=\"text-align: right;\">\n",
       "      <th></th>\n",
       "      <th>Year</th>\n",
       "    </tr>\n",
       "  </thead>\n",
       "  <tbody>\n",
       "    <tr>\n",
       "      <th>count</th>\n",
       "      <td>1749.000000</td>\n",
       "    </tr>\n",
       "    <tr>\n",
       "      <th>mean</th>\n",
       "      <td>2009.000000</td>\n",
       "    </tr>\n",
       "    <tr>\n",
       "      <th>std</th>\n",
       "      <td>3.163182</td>\n",
       "    </tr>\n",
       "    <tr>\n",
       "      <th>min</th>\n",
       "      <td>2004.000000</td>\n",
       "    </tr>\n",
       "    <tr>\n",
       "      <th>25%</th>\n",
       "      <td>2006.000000</td>\n",
       "    </tr>\n",
       "    <tr>\n",
       "      <th>50%</th>\n",
       "      <td>2009.000000</td>\n",
       "    </tr>\n",
       "    <tr>\n",
       "      <th>75%</th>\n",
       "      <td>2012.000000</td>\n",
       "    </tr>\n",
       "    <tr>\n",
       "      <th>max</th>\n",
       "      <td>2014.000000</td>\n",
       "    </tr>\n",
       "  </tbody>\n",
       "</table>\n",
       "</div>"
      ],
      "text/plain": [
       "              Year\n",
       "count  1749.000000\n",
       "mean   2009.000000\n",
       "std       3.163182\n",
       "min    2004.000000\n",
       "25%    2006.000000\n",
       "50%    2009.000000\n",
       "75%    2012.000000\n",
       "max    2014.000000"
      ]
     },
     "execution_count": 7,
     "metadata": {},
     "output_type": "execute_result"
    }
   ],
   "source": [
    "# Summary Statistics of Numerical Columns\n",
    "fatalities_df.describe()"
   ]
  },
  {
   "cell_type": "code",
   "execution_count": 8,
   "id": "248d6c48-f065-418c-bb9d-362a19d875a0",
   "metadata": {},
   "outputs": [
    {
     "data": {
      "text/html": [
       "<div>\n",
       "<style scoped>\n",
       "    .dataframe tbody tr th:only-of-type {\n",
       "        vertical-align: middle;\n",
       "    }\n",
       "\n",
       "    .dataframe tbody tr th {\n",
       "        vertical-align: top;\n",
       "    }\n",
       "\n",
       "    .dataframe thead th {\n",
       "        text-align: right;\n",
       "    }\n",
       "</style>\n",
       "<table border=\"1\" class=\"dataframe\">\n",
       "  <thead>\n",
       "    <tr style=\"text-align: right;\">\n",
       "      <th></th>\n",
       "      <th>ICD10 Code</th>\n",
       "      <th>ICD10 Diagnosis</th>\n",
       "      <th>Diagnosis Type</th>\n",
       "      <th>Metric</th>\n",
       "      <th>Sex</th>\n",
       "      <th>Value</th>\n",
       "    </tr>\n",
       "  </thead>\n",
       "  <tbody>\n",
       "    <tr>\n",
       "      <th>count</th>\n",
       "      <td>1749</td>\n",
       "      <td>1749</td>\n",
       "      <td>1749</td>\n",
       "      <td>1749</td>\n",
       "      <td>1166</td>\n",
       "      <td>1749</td>\n",
       "    </tr>\n",
       "    <tr>\n",
       "      <th>unique</th>\n",
       "      <td>27</td>\n",
       "      <td>27</td>\n",
       "      <td>10</td>\n",
       "      <td>2</td>\n",
       "      <td>2</td>\n",
       "      <td>1024</td>\n",
       "    </tr>\n",
       "    <tr>\n",
       "      <th>top</th>\n",
       "      <td>All codes</td>\n",
       "      <td>All deaths</td>\n",
       "      <td>Cancers which can be caused by smoking</td>\n",
       "      <td>Number of observed deaths</td>\n",
       "      <td>Male</td>\n",
       "      <td>100</td>\n",
       "    </tr>\n",
       "    <tr>\n",
       "      <th>freq</th>\n",
       "      <td>66</td>\n",
       "      <td>66</td>\n",
       "      <td>726</td>\n",
       "      <td>891</td>\n",
       "      <td>583</td>\n",
       "      <td>70</td>\n",
       "    </tr>\n",
       "  </tbody>\n",
       "</table>\n",
       "</div>"
      ],
      "text/plain": [
       "       ICD10 Code ICD10 Diagnosis                          Diagnosis Type  \\\n",
       "count        1749            1749                                    1749   \n",
       "unique         27              27                                      10   \n",
       "top     All codes      All deaths  Cancers which can be caused by smoking   \n",
       "freq           66              66                                     726   \n",
       "\n",
       "                           Metric   Sex Value  \n",
       "count                        1749  1166  1749  \n",
       "unique                          2     2  1024  \n",
       "top     Number of observed deaths  Male   100  \n",
       "freq                          891   583    70  "
      ]
     },
     "execution_count": 8,
     "metadata": {},
     "output_type": "execute_result"
    }
   ],
   "source": [
    "# Summary Statistics of categorical Columns\n",
    "fatalities_df.describe(include='object')"
   ]
  },
  {
   "cell_type": "markdown",
   "id": "126833ec-5e8b-4afa-8358-2711176a3e4f",
   "metadata": {},
   "source": [
    "### *Handling Missing Value*"
   ]
  },
  {
   "cell_type": "code",
   "execution_count": 11,
   "id": "4f7591ed-7507-4306-a51d-30583932cf37",
   "metadata": {},
   "outputs": [
    {
     "data": {
      "text/plain": [
       "Year                 0\n",
       "ICD10 Code           0\n",
       "ICD10 Diagnosis      0\n",
       "Diagnosis Type       0\n",
       "Metric               0\n",
       "Sex                583\n",
       "Value                0\n",
       "dtype: int64"
      ]
     },
     "execution_count": 11,
     "metadata": {},
     "output_type": "execute_result"
    }
   ],
   "source": [
    "# Check missing value\n",
    "fatalities_df.isnull().sum()"
   ]
  },
  {
   "cell_type": "code",
   "execution_count": 12,
   "id": "03eb0ec9-ef63-449d-a699-262a3750110c",
   "metadata": {},
   "outputs": [
    {
     "data": {
      "text/plain": [
       "Year               0.000000\n",
       "ICD10 Code         0.000000\n",
       "ICD10 Diagnosis    0.000000\n",
       "Diagnosis Type     0.000000\n",
       "Metric             0.000000\n",
       "Sex                0.333333\n",
       "Value              0.000000\n",
       "dtype: float64"
      ]
     },
     "execution_count": 12,
     "metadata": {},
     "output_type": "execute_result"
    }
   ],
   "source": [
    "fatalities_df.isnull().mean()"
   ]
  },
  {
   "cell_type": "code",
   "execution_count": 14,
   "id": "06c62340-b1ee-4c16-a35a-2a721a4a1fc1",
   "metadata": {},
   "outputs": [],
   "source": [
    "# Fill Null Value with Unknown\n",
    "fatalities_df['Sex'] = fatalities_df['Sex'].fillna(\"Unknown\")"
   ]
  },
  {
   "cell_type": "code",
   "execution_count": 15,
   "id": "2fd6ecbe-0dee-4464-9072-b39f24047f61",
   "metadata": {},
   "outputs": [
    {
     "data": {
      "text/plain": [
       "0       Unknown\n",
       "1       Unknown\n",
       "2       Unknown\n",
       "3       Unknown\n",
       "4       Unknown\n",
       "         ...   \n",
       "1744     Female\n",
       "1745     Female\n",
       "1746     Female\n",
       "1747     Female\n",
       "1748     Female\n",
       "Name: Sex, Length: 1749, dtype: object"
      ]
     },
     "execution_count": 15,
     "metadata": {},
     "output_type": "execute_result"
    }
   ],
   "source": [
    "fatalities_df['Sex']"
   ]
  },
  {
   "cell_type": "code",
   "execution_count": null,
   "id": "73da2808-db94-4285-9133-444b6c53fa9f",
   "metadata": {},
   "outputs": [],
   "source": []
  }
 ],
 "metadata": {
  "kernelspec": {
   "display_name": "Python 3 (ipykernel)",
   "language": "python",
   "name": "python3"
  },
  "language_info": {
   "codemirror_mode": {
    "name": "ipython",
    "version": 3
   },
   "file_extension": ".py",
   "mimetype": "text/x-python",
   "name": "python",
   "nbconvert_exporter": "python",
   "pygments_lexer": "ipython3",
   "version": "3.12.7"
  }
 },
 "nbformat": 4,
 "nbformat_minor": 5
}
